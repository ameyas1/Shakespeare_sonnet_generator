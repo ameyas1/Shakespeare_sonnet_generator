{
  "nbformat": 4,
  "nbformat_minor": 0,
  "metadata": {
    "colab": {
      "name": "Shakespeare_75.ipynb",
      "version": "0.3.2",
      "provenance": [],
      "include_colab_link": true
    },
    "kernelspec": {
      "name": "python3",
      "display_name": "Python 3"
    },
    "accelerator": "GPU"
  },
  "cells": [
    {
      "cell_type": "markdown",
      "metadata": {
        "id": "view-in-github",
        "colab_type": "text"
      },
      "source": [
        "<a href=\"https://colab.research.google.com/github/ameyas1/Shakespeare_sonnet_generator/blob/master/Shakespeare_75.ipynb\" target=\"_parent\"><img src=\"https://colab.research.google.com/assets/colab-badge.svg\" alt=\"Open In Colab\"/></a>"
      ]
    },
    {
      "metadata": {
        "id": "dwtL6H9fU7Xz",
        "colab_type": "code",
        "colab": {
          "base_uri": "https://localhost:8080/",
          "height": 539
        },
        "outputId": "ea8494d5-250c-4a3d-8ccb-1d25f6757bf5"
      },
      "cell_type": "code",
      "source": [
        "!pip install tf-nightly-gpu\n",
        "import tensorflow as tf"
      ],
      "execution_count": 1,
      "outputs": [
        {
          "output_type": "stream",
          "text": [
            "Collecting tf-nightly-gpu\n",
            "\u001b[?25l  Downloading https://files.pythonhosted.org/packages/27/41/2a979eeec993a3e71d88b588a3ef0f89bbe73e27e255179a564194f3c20f/tf_nightly_gpu-1.14.1.dev20190301-cp36-cp36m-manylinux1_x86_64.whl (367.1MB)\n",
            "\u001b[K    100% |████████████████████████████████| 367.1MB 55kB/s \n",
            "\u001b[?25hRequirement already satisfied: grpcio>=1.8.6 in /usr/local/lib/python3.6/dist-packages (from tf-nightly-gpu) (1.15.0)\n",
            "Requirement already satisfied: keras-applications>=1.0.6 in /usr/local/lib/python3.6/dist-packages (from tf-nightly-gpu) (1.0.7)\n",
            "Requirement already satisfied: numpy<2.0,>=1.14.5 in /usr/local/lib/python3.6/dist-packages (from tf-nightly-gpu) (1.14.6)\n",
            "Requirement already satisfied: absl-py>=0.7.0 in /usr/local/lib/python3.6/dist-packages (from tf-nightly-gpu) (0.7.0)\n",
            "Requirement already satisfied: termcolor>=1.1.0 in /usr/local/lib/python3.6/dist-packages (from tf-nightly-gpu) (1.1.0)\n",
            "Collecting tf-estimator-nightly (from tf-nightly-gpu)\n",
            "\u001b[?25l  Downloading https://files.pythonhosted.org/packages/c7/b1/eebeeeba2043b5b0593f3ce2c1f195a2c2de37817bb32550c9b8b5353b73/tf_estimator_nightly-1.14.0.dev2019022801-py2.py3-none-any.whl (407kB)\n",
            "\u001b[K    100% |████████████████████████████████| 409kB 12.2MB/s \n",
            "\u001b[?25hRequirement already satisfied: gast>=0.2.0 in /usr/local/lib/python3.6/dist-packages (from tf-nightly-gpu) (0.2.2)\n",
            "Collecting google-pasta>=0.1.2 (from tf-nightly-gpu)\n",
            "\u001b[?25l  Downloading https://files.pythonhosted.org/packages/8c/96/adbd4eafe72ce9b5ca6f168fbf109386e1b601f7c59926a11e9d7b7a5b44/google_pasta-0.1.4-py3-none-any.whl (51kB)\n",
            "\u001b[K    100% |████████████████████████████████| 61kB 24.2MB/s \n",
            "\u001b[?25hRequirement already satisfied: keras-preprocessing>=1.0.5 in /usr/local/lib/python3.6/dist-packages (from tf-nightly-gpu) (1.0.9)\n",
            "Requirement already satisfied: six>=1.10.0 in /usr/local/lib/python3.6/dist-packages (from tf-nightly-gpu) (1.11.0)\n",
            "Collecting tb-nightly<1.15.0a0,>=1.14.0a0 (from tf-nightly-gpu)\n",
            "\u001b[?25l  Downloading https://files.pythonhosted.org/packages/a9/51/aa1d756644bf4624c03844115e4ac4058eff77acd786b26315f051a4b195/tb_nightly-1.14.0a20190301-py3-none-any.whl (3.0MB)\n",
            "\u001b[K    100% |████████████████████████████████| 3.0MB 6.4MB/s \n",
            "\u001b[?25hRequirement already satisfied: wheel>=0.26 in /usr/local/lib/python3.6/dist-packages (from tf-nightly-gpu) (0.33.1)\n",
            "Requirement already satisfied: astor>=0.6.0 in /usr/local/lib/python3.6/dist-packages (from tf-nightly-gpu) (0.7.1)\n",
            "Requirement already satisfied: protobuf>=3.6.1 in /usr/local/lib/python3.6/dist-packages (from tf-nightly-gpu) (3.6.1)\n",
            "Requirement already satisfied: h5py in /usr/local/lib/python3.6/dist-packages (from keras-applications>=1.0.6->tf-nightly-gpu) (2.8.0)\n",
            "Requirement already satisfied: markdown>=2.6.8 in /usr/local/lib/python3.6/dist-packages (from tb-nightly<1.15.0a0,>=1.14.0a0->tf-nightly-gpu) (3.0.1)\n",
            "Requirement already satisfied: werkzeug>=0.11.15 in /usr/local/lib/python3.6/dist-packages (from tb-nightly<1.15.0a0,>=1.14.0a0->tf-nightly-gpu) (0.14.1)\n",
            "Requirement already satisfied: setuptools in /usr/local/lib/python3.6/dist-packages (from protobuf>=3.6.1->tf-nightly-gpu) (40.8.0)\n",
            "Installing collected packages: tf-estimator-nightly, google-pasta, tb-nightly, tf-nightly-gpu\n",
            "Successfully installed google-pasta-0.1.4 tb-nightly-1.14.0a20190301 tf-estimator-nightly-1.14.0.dev2019022801 tf-nightly-gpu-1.14.1.dev20190301\n"
          ],
          "name": "stdout"
        }
      ]
    },
    {
      "metadata": {
        "id": "rS_rtc67VDD9",
        "colab_type": "code",
        "colab": {}
      },
      "cell_type": "code",
      "source": [
        "import numpy as np\n",
        "import pandas as pd\n",
        "from tensorflow.keras.models import Sequential\n",
        "from tensorflow.keras.layers import Dense\n",
        "from tensorflow.keras.layers import Dropout\n",
        "from tensorflow.keras.layers import CuDNNLSTM\n",
        "from keras.utils import np_utils"
      ],
      "execution_count": 0,
      "outputs": []
    },
    {
      "metadata": {
        "id": "KkqCyaouFh6-",
        "colab_type": "code",
        "colab": {}
      },
      "cell_type": "code",
      "source": [
        "text=(open('ss.txt').read())\n",
        "text=text.lower()"
      ],
      "execution_count": 0,
      "outputs": []
    },
    {
      "metadata": {
        "id": "CZNJqIkiGZpb",
        "colab_type": "code",
        "colab": {}
      },
      "cell_type": "code",
      "source": [
        "characters=sorted(list(set(text)))"
      ],
      "execution_count": 0,
      "outputs": []
    },
    {
      "metadata": {
        "id": "mb6ylP63GjJZ",
        "colab_type": "code",
        "colab": {}
      },
      "cell_type": "code",
      "source": [
        "n_to_char={n:char for n, char in enumerate(characters)}"
      ],
      "execution_count": 0,
      "outputs": []
    },
    {
      "metadata": {
        "id": "HreML3_KHG1r",
        "colab_type": "code",
        "colab": {}
      },
      "cell_type": "code",
      "source": [
        "char_to_n={char:n for n, char in enumerate(characters)}"
      ],
      "execution_count": 0,
      "outputs": []
    },
    {
      "metadata": {
        "id": "h13_97xrIANO",
        "colab_type": "code",
        "colab": {}
      },
      "cell_type": "code",
      "source": [
        "x=[]\n",
        "y=[]\n",
        "length=len(text)\n",
        "seq_length=100"
      ],
      "execution_count": 0,
      "outputs": []
    },
    {
      "metadata": {
        "id": "SJB4mXI2IXui",
        "colab_type": "code",
        "colab": {}
      },
      "cell_type": "code",
      "source": [
        "for i in range(0,length-seq_length):\n",
        "  sequence=text[i:i+seq_length]\n",
        "  label=text[i+seq_length]\n",
        "  x.append([char_to_n[char] for char in sequence])\n",
        "  y.append(char_to_n[label])\n",
        "  "
      ],
      "execution_count": 0,
      "outputs": []
    },
    {
      "metadata": {
        "id": "TUV-IsWEKOQU",
        "colab_type": "code",
        "colab": {}
      },
      "cell_type": "code",
      "source": [
        "x_modified=np.reshape(x,(len(x),seq_length,1))\n",
        "x_modified=x_modified/float(len(characters))\n",
        "y_modified=np_utils.to_categorical(y)"
      ],
      "execution_count": 0,
      "outputs": []
    },
    {
      "metadata": {
        "id": "m5zWBGeINMRQ",
        "colab_type": "text"
      },
      "cell_type": "markdown",
      "source": [
        "**Model**"
      ]
    },
    {
      "metadata": {
        "id": "qnymrVLYJ4zb",
        "colab_type": "code",
        "colab": {}
      },
      "cell_type": "code",
      "source": [
        "model=Sequential()"
      ],
      "execution_count": 0,
      "outputs": []
    },
    {
      "metadata": {
        "id": "nPf1S3lONLVS",
        "colab_type": "code",
        "colab": {}
      },
      "cell_type": "code",
      "source": [
        "model.add(CuDNNLSTM(600,input_shape=(x_modified.shape[1],x_modified.shape[2]),return_sequences=True))\n",
        "model.add(Dropout(0.2))"
      ],
      "execution_count": 0,
      "outputs": []
    },
    {
      "metadata": {
        "id": "HhuuG1WpNlNP",
        "colab_type": "code",
        "colab": {}
      },
      "cell_type": "code",
      "source": [
        "model.add(CuDNNLSTM(600,return_sequences=True))\n",
        "model.add(Dropout(0.2))"
      ],
      "execution_count": 0,
      "outputs": []
    },
    {
      "metadata": {
        "id": "tAmoxzgLONVC",
        "colab_type": "code",
        "colab": {}
      },
      "cell_type": "code",
      "source": [
        "model.add(CuDNNLSTM(600))"
      ],
      "execution_count": 0,
      "outputs": []
    },
    {
      "metadata": {
        "id": "17BwF22ZO1xE",
        "colab_type": "code",
        "colab": {}
      },
      "cell_type": "code",
      "source": [
        "model.add(Dropout(0.2))"
      ],
      "execution_count": 0,
      "outputs": []
    },
    {
      "metadata": {
        "id": "Dc6aEOf_O7Vb",
        "colab_type": "code",
        "colab": {}
      },
      "cell_type": "code",
      "source": [
        "model.add(Dense(y_modified.shape[1],activation='softmax'))"
      ],
      "execution_count": 0,
      "outputs": []
    },
    {
      "metadata": {
        "id": "e1J0sJmGPP2C",
        "colab_type": "code",
        "colab": {}
      },
      "cell_type": "code",
      "source": [
        "model.compile(loss='categorical_crossentropy',optimizer='adam', metrics=['accuracy'])"
      ],
      "execution_count": 0,
      "outputs": []
    },
    {
      "metadata": {
        "id": "8vCEVu6MQ-Ud",
        "colab_type": "code",
        "colab": {
          "base_uri": "https://localhost:8080/",
          "height": 34
        },
        "outputId": "e8458302-61d4-4453-9238-81c2a23f9e74"
      },
      "cell_type": "code",
      "source": [
        "x_modified.shape"
      ],
      "execution_count": 78,
      "outputs": [
        {
          "output_type": "execute_result",
          "data": {
            "text/plain": [
              "(98863, 100, 1)"
            ]
          },
          "metadata": {
            "tags": []
          },
          "execution_count": 78
        }
      ]
    },
    {
      "metadata": {
        "id": "Ok1qdhhSPo1e",
        "colab_type": "code",
        "colab": {
          "base_uri": "https://localhost:8080/",
          "height": 398
        },
        "outputId": "2a91ce2e-5504-4f7b-b66f-d854e0bf1145"
      },
      "cell_type": "code",
      "source": [
        "model.summary()"
      ],
      "execution_count": 79,
      "outputs": [
        {
          "output_type": "stream",
          "text": [
            "Model: \"sequential_3\"\n",
            "_________________________________________________________________\n",
            "Layer (type)                 Output Shape              Param #   \n",
            "=================================================================\n",
            "cu_dnnlstm_6 (CuDNNLSTM)     (None, 100, 600)          1447200   \n",
            "_________________________________________________________________\n",
            "dropout_6 (Dropout)          (None, 100, 600)          0         \n",
            "_________________________________________________________________\n",
            "cu_dnnlstm_7 (CuDNNLSTM)     (None, 100, 600)          2884800   \n",
            "_________________________________________________________________\n",
            "dropout_7 (Dropout)          (None, 100, 600)          0         \n",
            "_________________________________________________________________\n",
            "cu_dnnlstm_8 (CuDNNLSTM)     (None, 600)               2884800   \n",
            "_________________________________________________________________\n",
            "dropout_8 (Dropout)          (None, 600)               0         \n",
            "_________________________________________________________________\n",
            "dense_1 (Dense)              (None, 38)                22838     \n",
            "=================================================================\n",
            "Total params: 7,239,638\n",
            "Trainable params: 7,239,638\n",
            "Non-trainable params: 0\n",
            "_________________________________________________________________\n"
          ],
          "name": "stdout"
        }
      ]
    },
    {
      "metadata": {
        "id": "qNF-PxXSPwFe",
        "colab_type": "code",
        "colab": {
          "base_uri": "https://localhost:8080/",
          "height": 727
        },
        "outputId": "df135910-86e5-46f8-aa8b-2804ea9ef58f"
      },
      "cell_type": "code",
      "source": [
        "model.fit(x_modified,y_modified,epochs=20,batch_size=50)"
      ],
      "execution_count": 80,
      "outputs": [
        {
          "output_type": "stream",
          "text": [
            "Epoch 1/20\n",
            "98863/98863 [==============================] - 444s 4ms/sample - loss: 2.7154 - acc: 0.2500\n",
            "Epoch 2/20\n",
            "98863/98863 [==============================] - 445s 5ms/sample - loss: 2.2931 - acc: 0.3406\n",
            "Epoch 3/20\n",
            "98863/98863 [==============================] - 445s 5ms/sample - loss: 2.0825 - acc: 0.3927\n",
            "Epoch 4/20\n",
            "98863/98863 [==============================] - 445s 5ms/sample - loss: 1.9351 - acc: 0.4298\n",
            "Epoch 5/20\n",
            "98863/98863 [==============================] - 445s 5ms/sample - loss: 1.8210 - acc: 0.4570\n",
            "Epoch 6/20\n",
            "98863/98863 [==============================] - 445s 5ms/sample - loss: 1.7210 - acc: 0.4839\n",
            "Epoch 7/20\n",
            "98863/98863 [==============================] - 443s 4ms/sample - loss: 1.6368 - acc: 0.5022\n",
            "Epoch 8/20\n",
            "98863/98863 [==============================] - 445s 4ms/sample - loss: 1.5561 - acc: 0.5225\n",
            "Epoch 9/20\n",
            "98863/98863 [==============================] - 445s 4ms/sample - loss: 1.4770 - acc: 0.5428\n",
            "Epoch 10/20\n",
            "98863/98863 [==============================] - 446s 5ms/sample - loss: 1.3977 - acc: 0.5629\n",
            "Epoch 11/20\n",
            "98863/98863 [==============================] - 447s 5ms/sample - loss: 1.3187 - acc: 0.5840\n",
            "Epoch 12/20\n",
            "98863/98863 [==============================] - 442s 4ms/sample - loss: 1.2472 - acc: 0.6041\n",
            "Epoch 13/20\n",
            "98863/98863 [==============================] - 444s 4ms/sample - loss: 1.1718 - acc: 0.6259\n",
            "Epoch 14/20\n",
            "98863/98863 [==============================] - 441s 4ms/sample - loss: 1.0970 - acc: 0.6487\n",
            "Epoch 15/20\n",
            "98863/98863 [==============================] - 442s 4ms/sample - loss: 1.0299 - acc: 0.6659\n",
            "Epoch 16/20\n",
            "98863/98863 [==============================] - 441s 4ms/sample - loss: 0.9650 - acc: 0.6875\n",
            "Epoch 17/20\n",
            "98863/98863 [==============================] - 442s 4ms/sample - loss: 0.9045 - acc: 0.7059\n",
            "Epoch 18/20\n",
            "98863/98863 [==============================] - 442s 4ms/sample - loss: 0.8477 - acc: 0.7225\n",
            "Epoch 19/20\n",
            "98863/98863 [==============================] - 443s 4ms/sample - loss: 0.7995 - acc: 0.7389\n",
            "Epoch 20/20\n",
            "98863/98863 [==============================] - 442s 4ms/sample - loss: 0.7506 - acc: 0.7532\n"
          ],
          "name": "stdout"
        },
        {
          "output_type": "execute_result",
          "data": {
            "text/plain": [
              "<tensorflow.python.keras.callbacks.History at 0x7f46e4cfdf98>"
            ]
          },
          "metadata": {
            "tags": []
          },
          "execution_count": 80
        }
      ]
    },
    {
      "metadata": {
        "id": "HveFy7CMS5O0",
        "colab_type": "code",
        "colab": {}
      },
      "cell_type": "code",
      "source": [
        "model.save('ss.h5')"
      ],
      "execution_count": 0,
      "outputs": []
    },
    {
      "metadata": {
        "id": "79tB_eXmTeR1",
        "colab_type": "text"
      },
      "cell_type": "markdown",
      "source": [
        "**Text Generation**"
      ]
    },
    {
      "metadata": {
        "id": "GM-fgBbEYoD0",
        "colab_type": "code",
        "colab": {}
      },
      "cell_type": "code",
      "source": [
        "string_mapped=x[2]\n",
        "full_string = [n_to_char[value] for value in string_mapped]\n",
        "for i in range(200):\n",
        "  x1=np.reshape(string_mapped,(1,len(string_mapped),1))\n",
        "  x1=x1/float(len(characters))\n",
        "  pred_index=np.argmax(model.predict(x1,verbose=0))\n",
        "  \n",
        "  full_string.append(n_to_char[pred_index])\n",
        "  \n",
        "  string_mapped.append(pred_index)\n",
        "  string_mapped=string_mapped[1:len(string_mapped)]"
      ],
      "execution_count": 0,
      "outputs": []
    },
    {
      "metadata": {
        "id": "paqyhl5bae6C",
        "colab_type": "code",
        "colab": {
          "base_uri": "https://localhost:8080/",
          "height": 54
        },
        "outputId": "3eb228e7-e28f-4fd2-ad80-7bf2a8d65280"
      },
      "cell_type": "code",
      "source": [
        "txt=''\n",
        "for char in full_string:\n",
        "  txt=txt+char\n",
        "txt"
      ],
      "execution_count": 89,
      "outputs": [
        {
          "output_type": "execute_result",
          "data": {
            "text/plain": [
              "\"from fairest creatures we desire increase,\\n  that thereby beauty's rose might never die,\\n  but as the world s due, by the spres so freat:\\n  the canker vistue once more wilt to booter;\\n  which bountelus says i did strive to prove\\n  and him as fast as thou forget's fnes   with mine own shadow strposed\""
            ]
          },
          "metadata": {
            "tags": []
          },
          "execution_count": 89
        }
      ]
    }
  ]
}